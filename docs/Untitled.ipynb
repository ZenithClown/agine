{
 "cells": [
  {
   "cell_type": "code",
   "execution_count": 1,
   "metadata": {},
   "outputs": [
    {
     "name": "stdout",
     "output_type": "stream",
     "text": [
      "Setting up agine-Environment...\n",
      "\tDetected OS            : Windows-10\n",
      "\tscikit-learn Options   : True\n",
      "\tThreading Availibilty  : False\n",
      "\tTensorflow Availibilty : False\n"
     ]
    }
   ],
   "source": [
    "import agine\n",
    "import numpy as np\n",
    "import pandas as pd"
   ]
  },
  {
   "cell_type": "code",
   "execution_count": 2,
   "metadata": {},
   "outputs": [],
   "source": [
    "data = pd.read_csv('./sample_data.csv', nrows = 100)"
   ]
  },
  {
   "cell_type": "code",
   "execution_count": 3,
   "metadata": {},
   "outputs": [
    {
     "data": {
      "text/html": [
       "<div>\n",
       "<style scoped>\n",
       "    .dataframe tbody tr th:only-of-type {\n",
       "        vertical-align: middle;\n",
       "    }\n",
       "\n",
       "    .dataframe tbody tr th {\n",
       "        vertical-align: top;\n",
       "    }\n",
       "\n",
       "    .dataframe thead th {\n",
       "        text-align: right;\n",
       "    }\n",
       "</style>\n",
       "<table border=\"1\" class=\"dataframe\">\n",
       "  <thead>\n",
       "    <tr style=\"text-align: right;\">\n",
       "      <th></th>\n",
       "      <th>SAP-ID</th>\n",
       "      <th>Type</th>\n",
       "      <th>Latitude</th>\n",
       "      <th>Longitude</th>\n",
       "      <th>Azimuth Alpha</th>\n",
       "      <th>loc</th>\n",
       "    </tr>\n",
       "  </thead>\n",
       "  <tbody>\n",
       "    <tr>\n",
       "      <td>59</td>\n",
       "      <td>I-AS-AGMN-ENB-9027-2</td>\n",
       "      <td>ENB</td>\n",
       "      <td>26.255816</td>\n",
       "      <td>89.752390</td>\n",
       "      <td>330</td>\n",
       "      <td>(89.75239, 26.25581639)</td>\n",
       "    </tr>\n",
       "    <tr>\n",
       "      <td>3</td>\n",
       "      <td>I-AS-ABYP-ENB-9003-0</td>\n",
       "      <td>ENB</td>\n",
       "      <td>26.333005</td>\n",
       "      <td>90.666242</td>\n",
       "      <td>0</td>\n",
       "      <td>(90.66624167, 26.33300528)</td>\n",
       "    </tr>\n",
       "    <tr>\n",
       "      <td>98</td>\n",
       "      <td>I-AS-AGMN-ENB-H002-2</td>\n",
       "      <td>ENB</td>\n",
       "      <td>26.276866</td>\n",
       "      <td>89.756602</td>\n",
       "      <td>280</td>\n",
       "      <td>(89.7566025, 26.27686556)</td>\n",
       "    </tr>\n",
       "    <tr>\n",
       "      <td>2</td>\n",
       "      <td>I-AS-ABYP-ENB-6000-2</td>\n",
       "      <td>ENB</td>\n",
       "      <td>26.346507</td>\n",
       "      <td>90.654643</td>\n",
       "      <td>330</td>\n",
       "      <td>(90.65464278, 26.34650667)</td>\n",
       "    </tr>\n",
       "    <tr>\n",
       "      <td>64</td>\n",
       "      <td>I-AS-AGMN-ENB-9030-1</td>\n",
       "      <td>ENB</td>\n",
       "      <td>26.244239</td>\n",
       "      <td>89.800378</td>\n",
       "      <td>160</td>\n",
       "      <td>(89.80037833, 26.24423861)</td>\n",
       "    </tr>\n",
       "  </tbody>\n",
       "</table>\n",
       "</div>"
      ],
      "text/plain": [
       "                  SAP-ID Type   Latitude  Longitude  Azimuth Alpha  \\\n",
       "59  I-AS-AGMN-ENB-9027-2  ENB  26.255816  89.752390            330   \n",
       "3   I-AS-ABYP-ENB-9003-0  ENB  26.333005  90.666242              0   \n",
       "98  I-AS-AGMN-ENB-H002-2  ENB  26.276866  89.756602            280   \n",
       "2   I-AS-ABYP-ENB-6000-2  ENB  26.346507  90.654643            330   \n",
       "64  I-AS-AGMN-ENB-9030-1  ENB  26.244239  89.800378            160   \n",
       "\n",
       "                           loc  \n",
       "59     (89.75239, 26.25581639)  \n",
       "3   (90.66624167, 26.33300528)  \n",
       "98   (89.7566025, 26.27686556)  \n",
       "2   (90.65464278, 26.34650667)  \n",
       "64  (89.80037833, 26.24423861)  "
      ]
     },
     "execution_count": 3,
     "metadata": {},
     "output_type": "execute_result"
    }
   ],
   "source": [
    "data['loc'] = data[['Longitude', 'Latitude']].apply(lambda x: tuple((x[0], x[1])), axis = 1)\n",
    "data.rename(columns = {'Cell Name' : 'SAP-ID'}, inplace = True)\n",
    "# data['SAP-ID'] = data['SAP-ID'].apply(lambda x: x[:-2])\n",
    "\n",
    "data.sample(5)"
   ]
  },
  {
   "cell_type": "code",
   "execution_count": 4,
   "metadata": {},
   "outputs": [
    {
     "data": {
      "text/html": [
       "<div>\n",
       "<style scoped>\n",
       "    .dataframe tbody tr th:only-of-type {\n",
       "        vertical-align: middle;\n",
       "    }\n",
       "\n",
       "    .dataframe tbody tr th {\n",
       "        vertical-align: top;\n",
       "    }\n",
       "\n",
       "    .dataframe thead th {\n",
       "        text-align: right;\n",
       "    }\n",
       "</style>\n",
       "<table border=\"1\" class=\"dataframe\">\n",
       "  <thead>\n",
       "    <tr style=\"text-align: right;\">\n",
       "      <th></th>\n",
       "      <th>SAP-ID</th>\n",
       "      <th>Type</th>\n",
       "      <th>Latitude</th>\n",
       "      <th>Longitude</th>\n",
       "      <th>Azimuth Alpha</th>\n",
       "      <th>loc</th>\n",
       "    </tr>\n",
       "  </thead>\n",
       "  <tbody>\n",
       "    <tr>\n",
       "      <td>0</td>\n",
       "      <td>I-AS-ABYP-ENB-6000-0</td>\n",
       "      <td>ENB</td>\n",
       "      <td>26.346507</td>\n",
       "      <td>90.654643</td>\n",
       "      <td>90</td>\n",
       "      <td>(90.65464278, 26.34650667)</td>\n",
       "    </tr>\n",
       "    <tr>\n",
       "      <td>1</td>\n",
       "      <td>I-AS-ABYP-ENB-6000-1</td>\n",
       "      <td>ENB</td>\n",
       "      <td>26.346507</td>\n",
       "      <td>90.654643</td>\n",
       "      <td>190</td>\n",
       "      <td>(90.65464278, 26.34650667)</td>\n",
       "    </tr>\n",
       "    <tr>\n",
       "      <td>2</td>\n",
       "      <td>I-AS-ABYP-ENB-6000-2</td>\n",
       "      <td>ENB</td>\n",
       "      <td>26.346507</td>\n",
       "      <td>90.654643</td>\n",
       "      <td>330</td>\n",
       "      <td>(90.65464278, 26.34650667)</td>\n",
       "    </tr>\n",
       "    <tr>\n",
       "      <td>3</td>\n",
       "      <td>I-AS-ABYP-ENB-9003-0</td>\n",
       "      <td>ENB</td>\n",
       "      <td>26.333005</td>\n",
       "      <td>90.666242</td>\n",
       "      <td>0</td>\n",
       "      <td>(90.66624167, 26.33300528)</td>\n",
       "    </tr>\n",
       "    <tr>\n",
       "      <td>4</td>\n",
       "      <td>I-AS-ABYP-ENB-9003-1</td>\n",
       "      <td>ENB</td>\n",
       "      <td>26.333005</td>\n",
       "      <td>90.666242</td>\n",
       "      <td>120</td>\n",
       "      <td>(90.66624167, 26.33300528)</td>\n",
       "    </tr>\n",
       "  </tbody>\n",
       "</table>\n",
       "</div>"
      ],
      "text/plain": [
       "                 SAP-ID Type   Latitude  Longitude  Azimuth Alpha  \\\n",
       "0  I-AS-ABYP-ENB-6000-0  ENB  26.346507  90.654643             90   \n",
       "1  I-AS-ABYP-ENB-6000-1  ENB  26.346507  90.654643            190   \n",
       "2  I-AS-ABYP-ENB-6000-2  ENB  26.346507  90.654643            330   \n",
       "3  I-AS-ABYP-ENB-9003-0  ENB  26.333005  90.666242              0   \n",
       "4  I-AS-ABYP-ENB-9003-1  ENB  26.333005  90.666242            120   \n",
       "\n",
       "                          loc  \n",
       "0  (90.65464278, 26.34650667)  \n",
       "1  (90.65464278, 26.34650667)  \n",
       "2  (90.65464278, 26.34650667)  \n",
       "3  (90.66624167, 26.33300528)  \n",
       "4  (90.66624167, 26.33300528)  "
      ]
     },
     "execution_count": 4,
     "metadata": {},
     "output_type": "execute_result"
    }
   ],
   "source": [
    "data.head()"
   ]
  },
  {
   "cell_type": "code",
   "execution_count": 5,
   "metadata": {},
   "outputs": [
    {
     "data": {
      "text/plain": [
       "1.289866041026848"
      ]
     },
     "execution_count": 5,
     "metadata": {},
     "output_type": "execute_result"
    }
   ],
   "source": [
    "agine.HaversineDistance((90.654643, 26.346507), (90.666242, 26.333005))"
   ]
  },
  {
   "cell_type": "code",
   "execution_count": 6,
   "metadata": {
    "scrolled": false
   },
   "outputs": [
    {
     "name": "stdout",
     "output_type": "stream",
     "text": [
      "Start >> Generating shapely Objects, at Mon Aug  3 15:13:03 2020\n",
      "\t Completed in 9.42 Secs.\n",
      "Start >> Joining Data with gpd.sjoin(), at Mon Aug  3 15:13:13 2020\n",
      "\t Completed in 0.08 Secs.\n"
     ]
    },
    {
     "name": "stderr",
     "output_type": "stream",
     "text": [
      "Calculating Distance with haversine Metric: 198it [00:00, 24817.63it/s]\n",
      "c:\\users\\debmalya.pramanik\\documents\\repository\\agine\\agine\\core\\point_function.py:196: UserWarning: Found 198 Neighbors at 0 units Distance\n",
      "  warnings.warn(f'Found {_zero_dist_nbr} Neighbors at 0 units Distance')\n"
     ]
    },
    {
     "name": "stdout",
     "output_type": "stream",
     "text": [
      "Start >> Calculating Ranks, at Mon Aug  3 15:13:13 2020\n"
     ]
    }
   ],
   "source": [
    "allNeighbor = agine.NearestNeighbor(data[['SAP-ID', 'loc']], UIN = 'SAP-ID')"
   ]
  },
  {
   "cell_type": "code",
   "execution_count": 7,
   "metadata": {},
   "outputs": [
    {
     "data": {
      "text/html": [
       "<div>\n",
       "<style scoped>\n",
       "    .dataframe tbody tr th:only-of-type {\n",
       "        vertical-align: middle;\n",
       "    }\n",
       "\n",
       "    .dataframe tbody tr th {\n",
       "        vertical-align: top;\n",
       "    }\n",
       "\n",
       "    .dataframe thead th {\n",
       "        text-align: right;\n",
       "    }\n",
       "</style>\n",
       "<table border=\"1\" class=\"dataframe\">\n",
       "  <thead>\n",
       "    <tr style=\"text-align: right;\">\n",
       "      <th></th>\n",
       "      <th>SAP-ID</th>\n",
       "      <th>loc</th>\n",
       "      <th>NBR_SAP-ID</th>\n",
       "      <th>NBR_loc</th>\n",
       "      <th>Calculated Distance</th>\n",
       "      <th>rnk</th>\n",
       "    </tr>\n",
       "  </thead>\n",
       "  <tbody>\n",
       "    <tr>\n",
       "      <td>1</td>\n",
       "      <td>I-AS-ABYP-ENB-6000-0</td>\n",
       "      <td>(90.65464278, 26.34650667)</td>\n",
       "      <td>I-AS-ABYP-ENB-6000-1</td>\n",
       "      <td>(90.65464278, 26.34650667)</td>\n",
       "      <td>0.0</td>\n",
       "      <td>1.0</td>\n",
       "    </tr>\n",
       "    <tr>\n",
       "      <td>2</td>\n",
       "      <td>I-AS-ABYP-ENB-6000-0</td>\n",
       "      <td>(90.65464278, 26.34650667)</td>\n",
       "      <td>I-AS-ABYP-ENB-6000-2</td>\n",
       "      <td>(90.65464278, 26.34650667)</td>\n",
       "      <td>0.0</td>\n",
       "      <td>1.0</td>\n",
       "    </tr>\n",
       "    <tr>\n",
       "      <td>3</td>\n",
       "      <td>I-AS-ABYP-ENB-6000-1</td>\n",
       "      <td>(90.65464278, 26.34650667)</td>\n",
       "      <td>I-AS-ABYP-ENB-6000-0</td>\n",
       "      <td>(90.65464278, 26.34650667)</td>\n",
       "      <td>0.0</td>\n",
       "      <td>1.0</td>\n",
       "    </tr>\n",
       "    <tr>\n",
       "      <td>5</td>\n",
       "      <td>I-AS-ABYP-ENB-6000-1</td>\n",
       "      <td>(90.65464278, 26.34650667)</td>\n",
       "      <td>I-AS-ABYP-ENB-6000-2</td>\n",
       "      <td>(90.65464278, 26.34650667)</td>\n",
       "      <td>0.0</td>\n",
       "      <td>1.0</td>\n",
       "    </tr>\n",
       "    <tr>\n",
       "      <td>6</td>\n",
       "      <td>I-AS-ABYP-ENB-6000-2</td>\n",
       "      <td>(90.65464278, 26.34650667)</td>\n",
       "      <td>I-AS-ABYP-ENB-6000-0</td>\n",
       "      <td>(90.65464278, 26.34650667)</td>\n",
       "      <td>0.0</td>\n",
       "      <td>1.0</td>\n",
       "    </tr>\n",
       "    <tr>\n",
       "      <td>...</td>\n",
       "      <td>...</td>\n",
       "      <td>...</td>\n",
       "      <td>...</td>\n",
       "      <td>...</td>\n",
       "      <td>...</td>\n",
       "      <td>...</td>\n",
       "    </tr>\n",
       "    <tr>\n",
       "      <td>290</td>\n",
       "      <td>I-AS-AGMN-ENB-H002-0</td>\n",
       "      <td>(89.7566025, 26.27686556)</td>\n",
       "      <td>I-AS-AGMN-ENB-H002-2</td>\n",
       "      <td>(89.7566025, 26.27686556)</td>\n",
       "      <td>0.0</td>\n",
       "      <td>1.0</td>\n",
       "    </tr>\n",
       "    <tr>\n",
       "      <td>291</td>\n",
       "      <td>I-AS-AGMN-ENB-H002-1</td>\n",
       "      <td>(89.7566025, 26.27686556)</td>\n",
       "      <td>I-AS-AGMN-ENB-H002-0</td>\n",
       "      <td>(89.7566025, 26.27686556)</td>\n",
       "      <td>0.0</td>\n",
       "      <td>1.0</td>\n",
       "    </tr>\n",
       "    <tr>\n",
       "      <td>293</td>\n",
       "      <td>I-AS-AGMN-ENB-H002-1</td>\n",
       "      <td>(89.7566025, 26.27686556)</td>\n",
       "      <td>I-AS-AGMN-ENB-H002-2</td>\n",
       "      <td>(89.7566025, 26.27686556)</td>\n",
       "      <td>0.0</td>\n",
       "      <td>1.0</td>\n",
       "    </tr>\n",
       "    <tr>\n",
       "      <td>294</td>\n",
       "      <td>I-AS-AGMN-ENB-H002-2</td>\n",
       "      <td>(89.7566025, 26.27686556)</td>\n",
       "      <td>I-AS-AGMN-ENB-H002-0</td>\n",
       "      <td>(89.7566025, 26.27686556)</td>\n",
       "      <td>0.0</td>\n",
       "      <td>1.0</td>\n",
       "    </tr>\n",
       "    <tr>\n",
       "      <td>295</td>\n",
       "      <td>I-AS-AGMN-ENB-H002-2</td>\n",
       "      <td>(89.7566025, 26.27686556)</td>\n",
       "      <td>I-AS-AGMN-ENB-H002-1</td>\n",
       "      <td>(89.7566025, 26.27686556)</td>\n",
       "      <td>0.0</td>\n",
       "      <td>1.0</td>\n",
       "    </tr>\n",
       "  </tbody>\n",
       "</table>\n",
       "<p>198 rows × 6 columns</p>\n",
       "</div>"
      ],
      "text/plain": [
       "                   SAP-ID                         loc            NBR_SAP-ID  \\\n",
       "1    I-AS-ABYP-ENB-6000-0  (90.65464278, 26.34650667)  I-AS-ABYP-ENB-6000-1   \n",
       "2    I-AS-ABYP-ENB-6000-0  (90.65464278, 26.34650667)  I-AS-ABYP-ENB-6000-2   \n",
       "3    I-AS-ABYP-ENB-6000-1  (90.65464278, 26.34650667)  I-AS-ABYP-ENB-6000-0   \n",
       "5    I-AS-ABYP-ENB-6000-1  (90.65464278, 26.34650667)  I-AS-ABYP-ENB-6000-2   \n",
       "6    I-AS-ABYP-ENB-6000-2  (90.65464278, 26.34650667)  I-AS-ABYP-ENB-6000-0   \n",
       "..                    ...                         ...                   ...   \n",
       "290  I-AS-AGMN-ENB-H002-0   (89.7566025, 26.27686556)  I-AS-AGMN-ENB-H002-2   \n",
       "291  I-AS-AGMN-ENB-H002-1   (89.7566025, 26.27686556)  I-AS-AGMN-ENB-H002-0   \n",
       "293  I-AS-AGMN-ENB-H002-1   (89.7566025, 26.27686556)  I-AS-AGMN-ENB-H002-2   \n",
       "294  I-AS-AGMN-ENB-H002-2   (89.7566025, 26.27686556)  I-AS-AGMN-ENB-H002-0   \n",
       "295  I-AS-AGMN-ENB-H002-2   (89.7566025, 26.27686556)  I-AS-AGMN-ENB-H002-1   \n",
       "\n",
       "                        NBR_loc  Calculated Distance  rnk  \n",
       "1    (90.65464278, 26.34650667)                  0.0  1.0  \n",
       "2    (90.65464278, 26.34650667)                  0.0  1.0  \n",
       "3    (90.65464278, 26.34650667)                  0.0  1.0  \n",
       "5    (90.65464278, 26.34650667)                  0.0  1.0  \n",
       "6    (90.65464278, 26.34650667)                  0.0  1.0  \n",
       "..                          ...                  ...  ...  \n",
       "290   (89.7566025, 26.27686556)                  0.0  1.0  \n",
       "291   (89.7566025, 26.27686556)                  0.0  1.0  \n",
       "293   (89.7566025, 26.27686556)                  0.0  1.0  \n",
       "294   (89.7566025, 26.27686556)                  0.0  1.0  \n",
       "295   (89.7566025, 26.27686556)                  0.0  1.0  \n",
       "\n",
       "[198 rows x 6 columns]"
      ]
     },
     "execution_count": 7,
     "metadata": {},
     "output_type": "execute_result"
    }
   ],
   "source": [
    "allNeighbor"
   ]
  }
 ],
 "metadata": {
  "hide_input": false,
  "kernelspec": {
   "display_name": "Py-3.7.4 Test ENV",
   "language": "python",
   "name": "testenvironment"
  },
  "language_info": {
   "codemirror_mode": {
    "name": "ipython",
    "version": 3
   },
   "file_extension": ".py",
   "mimetype": "text/x-python",
   "name": "python",
   "nbconvert_exporter": "python",
   "pygments_lexer": "ipython3",
   "version": "3.7.4"
  },
  "latex_envs": {
   "LaTeX_envs_menu_present": true,
   "autoclose": true,
   "autocomplete": true,
   "bibliofile": "biblio.bib",
   "cite_by": "apalike",
   "current_citInitial": 1,
   "eqLabelWithNumbers": true,
   "eqNumInitial": 1,
   "hotkeys": {
    "equation": "Ctrl-E",
    "itemize": "Ctrl-I"
   },
   "labels_anchors": false,
   "latex_user_defs": false,
   "report_style_numbering": false,
   "user_envs_cfg": false
  },
  "toc": {
   "base_numbering": 1,
   "nav_menu": {},
   "number_sections": false,
   "sideBar": true,
   "skip_h1_title": true,
   "title_cell": "Table of Contents",
   "title_sidebar": "Contents",
   "toc_cell": false,
   "toc_position": {},
   "toc_section_display": true,
   "toc_window_display": false
  },
  "varInspector": {
   "cols": {
    "lenName": 16,
    "lenType": 16,
    "lenVar": 40
   },
   "kernels_config": {
    "python": {
     "delete_cmd_postfix": "",
     "delete_cmd_prefix": "del ",
     "library": "var_list.py",
     "varRefreshCmd": "print(var_dic_list())"
    },
    "r": {
     "delete_cmd_postfix": ") ",
     "delete_cmd_prefix": "rm(",
     "library": "var_list.r",
     "varRefreshCmd": "cat(var_dic_list()) "
    }
   },
   "types_to_exclude": [
    "module",
    "function",
    "builtin_function_or_method",
    "instance",
    "_Feature"
   ],
   "window_display": false
  }
 },
 "nbformat": 4,
 "nbformat_minor": 2
}
