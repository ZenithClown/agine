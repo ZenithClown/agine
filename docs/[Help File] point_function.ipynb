{
 "cells": [
  {
   "cell_type": "code",
   "execution_count": 1,
   "metadata": {},
   "outputs": [
    {
     "name": "stdout",
     "output_type": "stream",
     "text": [
      "Setting up agine-Environment...\n",
      "\tDetected OS            : Windows-10\n",
      "\tscikit-learn Options   : True\n",
      "\tThreading Availibilty  : False\n",
      "\tTensorflow Availibilty : False\n",
      "Available PKGS:      ['numpy', 'pandas', 'fiona', 'shapely', 'pyproj', 'geopandas', 'pandas', 'fiona', 'shapely', 'pyproj', 'geopandas', 'rasterio', 'scikit-learn']\n",
      "Available Functions: ['commons', 'point-function', 'line-of-sight']\n"
     ]
    },
    {
     "name": "stderr",
     "output_type": "stream",
     "text": [
      "c:\\users\\debmalya.pramanik\\documents\\repository\\agine\\agine\\api\\__init__.py:31: VersionWarning: numpy Requires 1.18.1 or Above, Got 1.16.5\n",
      "  warnings.warn(f'{pkgName} Requires {_minReq_[1]} or Above, Got {_pkgVer_}', VersionWarning)\n",
      "c:\\users\\debmalya.pramanik\\documents\\repository\\agine\\agine\\api\\__init__.py:34: LimitedFunctionality: Unable to Check scikit-learn, got TypeError '>' not supported between instances of 'str' and 'float'.\n",
      "Got Version: ?0.21.3, Req.: ?c\n",
      "  LimitedFunctionality)\n"
     ]
    }
   ],
   "source": [
    "import agine\n",
    "import random\n",
    "import numpy as np\n",
    "import pandas as pd"
   ]
  },
  {
   "cell_type": "code",
   "execution_count": 66,
   "metadata": {},
   "outputs": [],
   "source": [
    "random.seed(7)\n",
    "np.random.seed(7)\n",
    "\n",
    "random_char = lambda : ''.join([random.choice('ABCDE') for _ in range(7)])\n",
    "random_name = lambda : f\"#-{random_char()}-{str(np.random.randint(0, 10)).zfill(4)}-{str(np.random.randint(0, 100)).zfill(4)}\""
   ]
  },
  {
   "cell_type": "code",
   "execution_count": 58,
   "metadata": {},
   "outputs": [],
   "source": [
    "data = pd.read_csv('./sample_data.csv')\n",
    "names = [random_name() for _ in range(data.shape[0])]"
   ]
  },
  {
   "cell_type": "code",
   "execution_count": 63,
   "metadata": {},
   "outputs": [
    {
     "data": {
      "text/plain": [
       "True"
      ]
     },
     "execution_count": 63,
     "metadata": {},
     "output_type": "execute_result"
    }
   ],
   "source": [
    "len(set(names)) == data.shape[0]"
   ]
  },
  {
   "cell_type": "code",
   "execution_count": 73,
   "metadata": {},
   "outputs": [
    {
     "data": {
      "text/html": [
       "<div>\n",
       "<style scoped>\n",
       "    .dataframe tbody tr th:only-of-type {\n",
       "        vertical-align: middle;\n",
       "    }\n",
       "\n",
       "    .dataframe tbody tr th {\n",
       "        vertical-align: top;\n",
       "    }\n",
       "\n",
       "    .dataframe thead th {\n",
       "        text-align: right;\n",
       "    }\n",
       "</style>\n",
       "<table border=\"1\" class=\"dataframe\">\n",
       "  <thead>\n",
       "    <tr style=\"text-align: right;\">\n",
       "      <th></th>\n",
       "      <th>Location Names</th>\n",
       "      <th>Locations</th>\n",
       "      <th>xLocation</th>\n",
       "      <th>yLocation</th>\n",
       "    </tr>\n",
       "  </thead>\n",
       "  <tbody>\n",
       "    <tr>\n",
       "      <td>149</td>\n",
       "      <td>#-AACEABA-0006-0084</td>\n",
       "      <td>(76.00125, 18.00125)</td>\n",
       "      <td>76.001250</td>\n",
       "      <td>18.001250</td>\n",
       "    </tr>\n",
       "    <tr>\n",
       "      <td>84</td>\n",
       "      <td>#-DEBEEEA-0009-0042</td>\n",
       "      <td>(91.55740278, 26.0573875)</td>\n",
       "      <td>91.557403</td>\n",
       "      <td>26.057388</td>\n",
       "    </tr>\n",
       "    <tr>\n",
       "      <td>40</td>\n",
       "      <td>#-DDABBBA-0000-0012</td>\n",
       "      <td>(92.63208111, 24.83219917)</td>\n",
       "      <td>92.632081</td>\n",
       "      <td>24.832199</td>\n",
       "    </tr>\n",
       "    <tr>\n",
       "      <td>66</td>\n",
       "      <td>#-ACADACE-0005-0073</td>\n",
       "      <td>(94.64657222, 26.81863667)</td>\n",
       "      <td>94.646572</td>\n",
       "      <td>26.818637</td>\n",
       "    </tr>\n",
       "    <tr>\n",
       "      <td>106</td>\n",
       "      <td>#-BAADDEB-0005-0021</td>\n",
       "      <td>(91.34857861, 26.5225925)</td>\n",
       "      <td>91.348579</td>\n",
       "      <td>26.522592</td>\n",
       "    </tr>\n",
       "    <tr>\n",
       "      <td>41</td>\n",
       "      <td>#-BEDBEED-0009-0009</td>\n",
       "      <td>(92.59156972, 24.74908917)</td>\n",
       "      <td>92.591570</td>\n",
       "      <td>24.749089</td>\n",
       "    </tr>\n",
       "    <tr>\n",
       "      <td>52</td>\n",
       "      <td>#-EEEEBCD-0006-0070</td>\n",
       "      <td>(94.64469361, 26.8372925)</td>\n",
       "      <td>94.644694</td>\n",
       "      <td>26.837293</td>\n",
       "    </tr>\n",
       "  </tbody>\n",
       "</table>\n",
       "</div>"
      ],
      "text/plain": [
       "          Location Names                   Locations  xLocation  yLocation\n",
       "149  #-AACEABA-0006-0084        (76.00125, 18.00125)  76.001250  18.001250\n",
       "84   #-DEBEEEA-0009-0042   (91.55740278, 26.0573875)  91.557403  26.057388\n",
       "40   #-DDABBBA-0000-0012  (92.63208111, 24.83219917)  92.632081  24.832199\n",
       "66   #-ACADACE-0005-0073  (94.64657222, 26.81863667)  94.646572  26.818637\n",
       "106  #-BAADDEB-0005-0021   (91.34857861, 26.5225925)  91.348579  26.522592\n",
       "41   #-BEDBEED-0009-0009  (92.59156972, 24.74908917)  92.591570  24.749089\n",
       "52   #-EEEEBCD-0006-0070   (94.64469361, 26.8372925)  94.644694  26.837293"
      ]
     },
     "execution_count": 73,
     "metadata": {},
     "output_type": "execute_result"
    }
   ],
   "source": [
    "data['Location Names'] = names\n",
    "data['Locations'] = data[['xLocation', 'yLocation']].apply(lambda x: tuple(x), axis = 1)\n",
    "data = data[['Location Names', 'Locations', 'xLocation', 'yLocation']]\n",
    "\n",
    "data.sample(7, random_state = 7)"
   ]
  },
  {
   "cell_type": "code",
   "execution_count": 74,
   "metadata": {},
   "outputs": [
    {
     "name": "stdout",
     "output_type": "stream",
     "text": [
      "Start >> Generating shapely Objects, at Tue Aug  4 10:38:52 2020\n",
      "\t Completed in 20.9 Secs.\n",
      "Start >> Joining Data with gpd.sjoin(), at Tue Aug  4 10:39:13 2020\n",
      "\t Completed in 0.13 Secs.\n",
      "NBR_Location Names == NaN - denotes a Location w/o a Neighbor\n"
     ]
    },
    {
     "name": "stderr",
     "output_type": "stream",
     "text": [
      "Calculating Distance with haversine Metric: 1858it [00:00, 5626.04it/s]\n"
     ]
    },
    {
     "name": "stdout",
     "output_type": "stream",
     "text": [
      "Start >> Calculating Ranks, at Tue Aug  4 10:39:13 2020\n",
      "\t Completed in 0.02 Secs.\n"
     ]
    }
   ],
   "source": [
    "all_neighbor = agine.NearestNeighbor(data[['Location Names', 'Locations']], UIN = 'Location Names', loc = 'Locations', num_nbr = 3)"
   ]
  },
  {
   "cell_type": "code",
   "execution_count": 83,
   "metadata": {},
   "outputs": [
    {
     "name": "stdout",
     "output_type": "stream",
     "text": [
      "ZERO NBRs Count = (5, 6)\n"
     ]
    },
    {
     "data": {
      "text/html": [
       "<div>\n",
       "<style scoped>\n",
       "    .dataframe tbody tr th:only-of-type {\n",
       "        vertical-align: middle;\n",
       "    }\n",
       "\n",
       "    .dataframe tbody tr th {\n",
       "        vertical-align: top;\n",
       "    }\n",
       "\n",
       "    .dataframe thead th {\n",
       "        text-align: right;\n",
       "    }\n",
       "</style>\n",
       "<table border=\"1\" class=\"dataframe\">\n",
       "  <thead>\n",
       "    <tr style=\"text-align: right;\">\n",
       "      <th></th>\n",
       "      <th>Location Names</th>\n",
       "      <th>Locations</th>\n",
       "      <th>NBR_Location Names</th>\n",
       "      <th>NBR_Locations</th>\n",
       "      <th>Calculated Distance (km)</th>\n",
       "      <th>rnk</th>\n",
       "    </tr>\n",
       "  </thead>\n",
       "  <tbody>\n",
       "    <tr>\n",
       "      <td>1862</td>\n",
       "      <td>#-AACEABA-0006-0084</td>\n",
       "      <td>(76.00125, 18.00125)</td>\n",
       "      <td>NaN</td>\n",
       "      <td>NaN</td>\n",
       "      <td>NaN</td>\n",
       "      <td>0.0</td>\n",
       "    </tr>\n",
       "    <tr>\n",
       "      <td>1860</td>\n",
       "      <td>#-BDCECDD-0005-0083</td>\n",
       "      <td>(92.64299111, 25.99765139)</td>\n",
       "      <td>NaN</td>\n",
       "      <td>NaN</td>\n",
       "      <td>NaN</td>\n",
       "      <td>0.0</td>\n",
       "    </tr>\n",
       "    <tr>\n",
       "      <td>1861</td>\n",
       "      <td>#-CDAEBBD-0000-0011</td>\n",
       "      <td>(90.6597525, 26.14974806)</td>\n",
       "      <td>NaN</td>\n",
       "      <td>NaN</td>\n",
       "      <td>NaN</td>\n",
       "      <td>0.0</td>\n",
       "    </tr>\n",
       "    <tr>\n",
       "      <td>1859</td>\n",
       "      <td>#-EAACABD-0003-0077</td>\n",
       "      <td>(90.6524075, 26.021292499999998)</td>\n",
       "      <td>NaN</td>\n",
       "      <td>NaN</td>\n",
       "      <td>NaN</td>\n",
       "      <td>0.0</td>\n",
       "    </tr>\n",
       "    <tr>\n",
       "      <td>1858</td>\n",
       "      <td>#-EDABAEB-0009-0014</td>\n",
       "      <td>(90.20917083, 26.23130306)</td>\n",
       "      <td>NaN</td>\n",
       "      <td>NaN</td>\n",
       "      <td>NaN</td>\n",
       "      <td>0.0</td>\n",
       "    </tr>\n",
       "  </tbody>\n",
       "</table>\n",
       "</div>"
      ],
      "text/plain": [
       "           Location Names                         Locations  \\\n",
       "1862  #-AACEABA-0006-0084              (76.00125, 18.00125)   \n",
       "1860  #-BDCECDD-0005-0083        (92.64299111, 25.99765139)   \n",
       "1861  #-CDAEBBD-0000-0011         (90.6597525, 26.14974806)   \n",
       "1859  #-EAACABD-0003-0077  (90.6524075, 26.021292499999998)   \n",
       "1858  #-EDABAEB-0009-0014        (90.20917083, 26.23130306)   \n",
       "\n",
       "     NBR_Location Names NBR_Locations  Calculated Distance (km)  rnk  \n",
       "1862                NaN           NaN                       NaN  0.0  \n",
       "1860                NaN           NaN                       NaN  0.0  \n",
       "1861                NaN           NaN                       NaN  0.0  \n",
       "1859                NaN           NaN                       NaN  0.0  \n",
       "1858                NaN           NaN                       NaN  0.0  "
      ]
     },
     "execution_count": 83,
     "metadata": {},
     "output_type": "execute_result"
    }
   ],
   "source": [
    "print(f'ZERO NBRs Count = {all_neighbor[all_neighbor.rnk == 0].shape}')\n",
    "all_neighbor[all_neighbor.rnk == 0].head()"
   ]
  },
  {
   "cell_type": "code",
   "execution_count": 81,
   "metadata": {},
   "outputs": [
    {
     "data": {
      "text/html": [
       "<div>\n",
       "<style scoped>\n",
       "    .dataframe tbody tr th:only-of-type {\n",
       "        vertical-align: middle;\n",
       "    }\n",
       "\n",
       "    .dataframe tbody tr th {\n",
       "        vertical-align: top;\n",
       "    }\n",
       "\n",
       "    .dataframe thead th {\n",
       "        text-align: right;\n",
       "    }\n",
       "</style>\n",
       "<table border=\"1\" class=\"dataframe\">\n",
       "  <thead>\n",
       "    <tr style=\"text-align: right;\">\n",
       "      <th></th>\n",
       "      <th>Location Names</th>\n",
       "      <th>Locations</th>\n",
       "      <th>NBR_Location Names</th>\n",
       "      <th>NBR_Locations</th>\n",
       "      <th>Calculated Distance (km)</th>\n",
       "      <th>rnk</th>\n",
       "    </tr>\n",
       "  </thead>\n",
       "  <tbody>\n",
       "    <tr>\n",
       "      <td>771</td>\n",
       "      <td>#-EEADBEA-0006-0043</td>\n",
       "      <td>(92.65370972, 24.801804999999998)</td>\n",
       "      <td>#-BBBDEAE-0007-0077</td>\n",
       "      <td>(92.64750667, 24.7827375)</td>\n",
       "      <td>0.696682</td>\n",
       "      <td>1.0</td>\n",
       "    </tr>\n",
       "    <tr>\n",
       "      <td>980</td>\n",
       "      <td>#-CAACAEB-0006-0047</td>\n",
       "      <td>(94.55555889, 26.79868694)</td>\n",
       "      <td>#-CCABCBD-0005-0079</td>\n",
       "      <td>(94.54242583, 26.86145194)</td>\n",
       "      <td>1.561715</td>\n",
       "      <td>2.0</td>\n",
       "    </tr>\n",
       "    <tr>\n",
       "      <td>1135</td>\n",
       "      <td>#-EAEADCA-0009-0073</td>\n",
       "      <td>(91.49386528, 26.19384556)</td>\n",
       "      <td>#-BDCADAE-0006-0018</td>\n",
       "      <td>(91.50511472, 26.17388194)</td>\n",
       "      <td>1.252229</td>\n",
       "      <td>1.0</td>\n",
       "    </tr>\n",
       "    <tr>\n",
       "      <td>398</td>\n",
       "      <td>#-DBACEAA-0007-0023</td>\n",
       "      <td>(89.79661389, 26.29883444)</td>\n",
       "      <td>#-BCCABDE-0008-0083</td>\n",
       "      <td>(89.80037833, 26.24423861)</td>\n",
       "      <td>0.419131</td>\n",
       "      <td>1.0</td>\n",
       "    </tr>\n",
       "    <tr>\n",
       "      <td>1683</td>\n",
       "      <td>#-DBAAACA-0004-0077</td>\n",
       "      <td>(91.2973725, 26.68734194)</td>\n",
       "      <td>#-AACBAEC-0009-0044</td>\n",
       "      <td>(91.2889575, 26.61280722)</td>\n",
       "      <td>0.954216</td>\n",
       "      <td>3.0</td>\n",
       "    </tr>\n",
       "    <tr>\n",
       "      <td>1491</td>\n",
       "      <td>#-EDAAACE-0008-0052</td>\n",
       "      <td>(91.25420278, 26.276415000000004)</td>\n",
       "      <td>#-EABDBCB-0008-0021</td>\n",
       "      <td>(91.26764361, 26.29213583)</td>\n",
       "      <td>1.495047</td>\n",
       "      <td>2.0</td>\n",
       "    </tr>\n",
       "    <tr>\n",
       "      <td>1731</td>\n",
       "      <td>#-EDBCCDA-0007-0016</td>\n",
       "      <td>(91.29156833, 26.65732667)</td>\n",
       "      <td>#-AACBAEC-0009-0044</td>\n",
       "      <td>(91.2889575, 26.61280722)</td>\n",
       "      <td>0.310976</td>\n",
       "      <td>1.0</td>\n",
       "    </tr>\n",
       "    <tr>\n",
       "      <td>385</td>\n",
       "      <td>#-ADDABAB-0006-0031</td>\n",
       "      <td>(89.78388889, 26.13504056)</td>\n",
       "      <td>#-DDDCABA-0007-0096</td>\n",
       "      <td>(89.78187333, 26.20144944)</td>\n",
       "      <td>0.225860</td>\n",
       "      <td>2.0</td>\n",
       "    </tr>\n",
       "    <tr>\n",
       "      <td>1852</td>\n",
       "      <td>#-EBDBBDA-0004-0032</td>\n",
       "      <td>(91.35718806, 26.59592222)</td>\n",
       "      <td>#-ADDDCDD-0002-0037</td>\n",
       "      <td>(91.36163889, 26.65866917)</td>\n",
       "      <td>0.521857</td>\n",
       "      <td>3.0</td>\n",
       "    </tr>\n",
       "    <tr>\n",
       "      <td>66</td>\n",
       "      <td>#-CEDCDCE-0000-0075</td>\n",
       "      <td>(89.78780944, 26.19736417)</td>\n",
       "      <td>#-ACDAACE-0008-0055</td>\n",
       "      <td>(89.78519083, 26.21696583)</td>\n",
       "      <td>0.291289</td>\n",
       "      <td>1.0</td>\n",
       "    </tr>\n",
       "    <tr>\n",
       "      <td>645</td>\n",
       "      <td>#-BDBCBDE-0002-0083</td>\n",
       "      <td>(89.82875417, 26.29182111)</td>\n",
       "      <td>#-BCCABDE-0008-0083</td>\n",
       "      <td>(89.80037833, 26.24423861)</td>\n",
       "      <td>3.155296</td>\n",
       "      <td>3.0</td>\n",
       "    </tr>\n",
       "    <tr>\n",
       "      <td>1670</td>\n",
       "      <td>#-EDACDCC-0006-0046</td>\n",
       "      <td>(91.34401917, 26.61663833)</td>\n",
       "      <td>#-DBDADAD-0005-0093</td>\n",
       "      <td>(91.33978583, 26.57777083)</td>\n",
       "      <td>0.481484</td>\n",
       "      <td>2.0</td>\n",
       "    </tr>\n",
       "    <tr>\n",
       "      <td>1148</td>\n",
       "      <td>#-DAEBCAD-0002-0064</td>\n",
       "      <td>(91.35552611, 26.52480028)</td>\n",
       "      <td>#-ACDAEDC-0004-0027</td>\n",
       "      <td>(91.36060194, 26.542627500000002)</td>\n",
       "      <td>0.566359</td>\n",
       "      <td>3.0</td>\n",
       "    </tr>\n",
       "    <tr>\n",
       "      <td>1129</td>\n",
       "      <td>#-BDCADAE-0006-0018</td>\n",
       "      <td>(91.50511472, 26.17388194)</td>\n",
       "      <td>#-EBAAABC-0000-0034</td>\n",
       "      <td>(91.50880917, 26.19332167)</td>\n",
       "      <td>0.414719</td>\n",
       "      <td>1.0</td>\n",
       "    </tr>\n",
       "    <tr>\n",
       "      <td>1438</td>\n",
       "      <td>#-DDBABBB-0001-0061</td>\n",
       "      <td>(91.29396361, 26.29921167)</td>\n",
       "      <td>#-BCDEDAB-0004-0069</td>\n",
       "      <td>(91.29159833, 26.31682417)</td>\n",
       "      <td>0.266693</td>\n",
       "      <td>2.0</td>\n",
       "    </tr>\n",
       "  </tbody>\n",
       "</table>\n",
       "</div>"
      ],
      "text/plain": [
       "           Location Names                          Locations  \\\n",
       "771   #-EEADBEA-0006-0043  (92.65370972, 24.801804999999998)   \n",
       "980   #-CAACAEB-0006-0047         (94.55555889, 26.79868694)   \n",
       "1135  #-EAEADCA-0009-0073         (91.49386528, 26.19384556)   \n",
       "398   #-DBACEAA-0007-0023         (89.79661389, 26.29883444)   \n",
       "1683  #-DBAAACA-0004-0077          (91.2973725, 26.68734194)   \n",
       "1491  #-EDAAACE-0008-0052  (91.25420278, 26.276415000000004)   \n",
       "1731  #-EDBCCDA-0007-0016         (91.29156833, 26.65732667)   \n",
       "385   #-ADDABAB-0006-0031         (89.78388889, 26.13504056)   \n",
       "1852  #-EBDBBDA-0004-0032         (91.35718806, 26.59592222)   \n",
       "66    #-CEDCDCE-0000-0075         (89.78780944, 26.19736417)   \n",
       "645   #-BDBCBDE-0002-0083         (89.82875417, 26.29182111)   \n",
       "1670  #-EDACDCC-0006-0046         (91.34401917, 26.61663833)   \n",
       "1148  #-DAEBCAD-0002-0064         (91.35552611, 26.52480028)   \n",
       "1129  #-BDCADAE-0006-0018         (91.50511472, 26.17388194)   \n",
       "1438  #-DDBABBB-0001-0061         (91.29396361, 26.29921167)   \n",
       "\n",
       "       NBR_Location Names                      NBR_Locations  \\\n",
       "771   #-BBBDEAE-0007-0077          (92.64750667, 24.7827375)   \n",
       "980   #-CCABCBD-0005-0079         (94.54242583, 26.86145194)   \n",
       "1135  #-BDCADAE-0006-0018         (91.50511472, 26.17388194)   \n",
       "398   #-BCCABDE-0008-0083         (89.80037833, 26.24423861)   \n",
       "1683  #-AACBAEC-0009-0044          (91.2889575, 26.61280722)   \n",
       "1491  #-EABDBCB-0008-0021         (91.26764361, 26.29213583)   \n",
       "1731  #-AACBAEC-0009-0044          (91.2889575, 26.61280722)   \n",
       "385   #-DDDCABA-0007-0096         (89.78187333, 26.20144944)   \n",
       "1852  #-ADDDCDD-0002-0037         (91.36163889, 26.65866917)   \n",
       "66    #-ACDAACE-0008-0055         (89.78519083, 26.21696583)   \n",
       "645   #-BCCABDE-0008-0083         (89.80037833, 26.24423861)   \n",
       "1670  #-DBDADAD-0005-0093         (91.33978583, 26.57777083)   \n",
       "1148  #-ACDAEDC-0004-0027  (91.36060194, 26.542627500000002)   \n",
       "1129  #-EBAAABC-0000-0034         (91.50880917, 26.19332167)   \n",
       "1438  #-BCDEDAB-0004-0069         (91.29159833, 26.31682417)   \n",
       "\n",
       "      Calculated Distance (km)  rnk  \n",
       "771                   0.696682  1.0  \n",
       "980                   1.561715  2.0  \n",
       "1135                  1.252229  1.0  \n",
       "398                   0.419131  1.0  \n",
       "1683                  0.954216  3.0  \n",
       "1491                  1.495047  2.0  \n",
       "1731                  0.310976  1.0  \n",
       "385                   0.225860  2.0  \n",
       "1852                  0.521857  3.0  \n",
       "66                    0.291289  1.0  \n",
       "645                   3.155296  3.0  \n",
       "1670                  0.481484  2.0  \n",
       "1148                  0.566359  3.0  \n",
       "1129                  0.414719  1.0  \n",
       "1438                  0.266693  2.0  "
      ]
     },
     "execution_count": 81,
     "metadata": {},
     "output_type": "execute_result"
    }
   ],
   "source": [
    "all_neighbor.sample(15, random_state = 7)"
   ]
  },
  {
   "cell_type": "code",
   "execution_count": 88,
   "metadata": {},
   "outputs": [],
   "source": [
    "from agine.api import AVLBL_OPTIONS"
   ]
  },
  {
   "cell_type": "code",
   "execution_count": 89,
   "metadata": {},
   "outputs": [
    {
     "data": {
      "text/plain": [
       "['commons', 'point-function', 'line-of-sight']"
      ]
     },
     "execution_count": 89,
     "metadata": {},
     "output_type": "execute_result"
    }
   ],
   "source": [
    "AVLBL_OPTIONS"
   ]
  },
  {
   "cell_type": "markdown",
   "metadata": {},
   "source": [
    "The above code is created using `shapely.Polygon()` where a `(lat, lon)` is _first projected_ to its equivalent which can be visually seen with [this D3.js Visualization](https://observablehq.com/@d3/gallery). Note that, this library currently supports on **WGS84** $\\approx$ **EPSG:4326** Reference System Only. The defaults can be accessed using the following code:\n",
    "```python\n",
    "from agine.config import *\n",
    "print(CRS, DATUM) # gives the default coordinate reference system\n",
    ">> {'init': 'epsg:4326'} WGS84\n",
    "print(UNITS) # supported input/output units\n",
    ">> ['m', 'km', 'rad', 'none']\n",
    "print(METRICS) # supported Distance Calculation Metrics\n",
    ">> ['euclidean', 'manhattan', 'haversine']\n",
    "```\n",
    "\n",
    "A Circular Projection, given the `center lat, lon` which are internally converted **Azimuthal Equidistant Projection (AEQD)** and back to WGS84, is available under `agine.commons()` and is auto-imported with _init-time Option Registrations_ if `point-function` is available in `AVLBL_OPTIONS`."
   ]
  },
  {
   "cell_type": "code",
   "execution_count": 92,
   "metadata": {},
   "outputs": [
    {
     "data": {
      "image/svg+xml": [
       "<svg xmlns=\"http://www.w3.org/2000/svg\" xmlns:xlink=\"http://www.w3.org/1999/xlink\" width=\"100.0\" height=\"100.0\" viewBox=\"78.83396224289288 20.471862864229166 0.2593927432961465 0.24404467875267954\" preserveAspectRatio=\"xMinYMin meet\"><g transform=\"matrix(1,0,0,-1,0,41.18777040721101)\"><path fill-rule=\"evenodd\" fill=\"#66cc99\" stroke=\"#555555\" stroke-width=\"0.005187854865922929\" opacity=\"0.6\" d=\"M 79.08374784754842,20.593843242166685 L 79.083160896559,20.582825036382975 L 79.08142332641863,20.571913731162443 L 79.07855210944558,20.561214373860647 L 79.07457511651847,20.55082994956857 L 79.06953084027313,20.54086039146565 L 79.06346801707365,20.53140162128578 L 79.05644515167499,20.522544629025287 L 79.04852994937924,20.514374600621387 L 79.03979866131817,20.506970101849817 L 79.03033534926513,20.500402326137348 L 79.02023107708466,20.494734413363773 L 79.00958303656473,20.490020846045255 L 78.99849361593964,20.48630692855271 L 78.98706941989957,20.483628354232653 L 78.9754202502937,20.482010864469938 L 78.96365805706205,20.481470002869763 L 78.95189586918208,20.482010966847874 L 78.9402467155807,20.48362855800984 L 78.92882254604676,20.4863072317809 L 78.91773316217886,20.490021245824902 L 78.90708516831964,20.494734905871116 L 78.89698095226179,20.500402906660252 L 78.88751770526166,20.50697076483197 L 78.87878649056704,20.514375339714473 L 78.87087136925473,20.522545437148736 L 78.86384859168665,20.531402490693523 L 78.85778586232873,20.540861313819313 L 78.85274168504114,20.550830916016455 L 78.84876479524281,20.56121537512178 L 78.84589368458289,20.571914757614937 L 78.84415622292092,20.58282607815589 L 78.84356938153348,20.593844289234557 L 78.84413906053115,20.604863291486254 L 78.84586002249704,20.615776954997084 L 78.84871593335173,20.626480141784647 L 78.8526795104194,20.636869719594326 L 78.85771277662728,20.646845557201495 L 78.86376741872175,20.656311491556053 L 78.87078524634583,20.665176257347824 L 78.87869874780031,20.67335436990804 L 78.88743173732057,20.680766952791704 L 78.89690008775193,20.68734250190383 L 78.90701254161176,20.693017578636315 L 78.91767159269746,20.69773742516473 L 78.92877442964587,20.701456495810003 L 78.94021393218398,20.70413889919126 L 78.95187971023985,20.705758746773608 L 78.96365917561599,20.70630040434125 L 78.97543863557132,20.705758643889528 L 78.98710439741807,20.704138694421246 L 78.99854387311775,20.701456191140444 L 79.00964667286172,20.69773702355057 L 79.02030567674177,20.693017083971817 L 79.03041807385728,20.687341918984025 L 79.03988635856106,20.680766287265016 L 79.04861927401332,20.673353628220568 L 79.05653269378281,20.665175446679836 L 79.06355043290169,20.656310619751416 L 79.06960498053289,20.646844632690676 L 79.07463814723805,20.636868751311933 L 79.07860162072973,20.626479139082157 L 79.08145742493896,20.61577592755177 L 79.08317827822184,20.604862249207194 L 79.08374784754842,20.593843242166688 L 79.08374784754842,20.593843242166685 z\" /></g></svg>"
      ],
      "text/plain": [
       "<shapely.geometry.polygon.Polygon at 0x1f068099b48>"
      ]
     },
     "execution_count": 92,
     "metadata": {},
     "output_type": "execute_result"
    }
   ],
   "source": [
    "agine.create_circle_polygon(78.9629, 20.5937, radius = 12500)"
   ]
  }
 ],
 "metadata": {
  "hide_input": false,
  "kernelspec": {
   "display_name": "Py-3.7.4 Test ENV",
   "language": "python",
   "name": "testenvironment"
  },
  "language_info": {
   "codemirror_mode": {
    "name": "ipython",
    "version": 3
   },
   "file_extension": ".py",
   "mimetype": "text/x-python",
   "name": "python",
   "nbconvert_exporter": "python",
   "pygments_lexer": "ipython3",
   "version": "3.7.4"
  },
  "latex_envs": {
   "LaTeX_envs_menu_present": true,
   "autoclose": true,
   "autocomplete": true,
   "bibliofile": "biblio.bib",
   "cite_by": "apalike",
   "current_citInitial": 1,
   "eqLabelWithNumbers": true,
   "eqNumInitial": 1,
   "hotkeys": {
    "equation": "Ctrl-E",
    "itemize": "Ctrl-I"
   },
   "labels_anchors": false,
   "latex_user_defs": false,
   "report_style_numbering": false,
   "user_envs_cfg": false
  },
  "toc": {
   "base_numbering": 1,
   "nav_menu": {},
   "number_sections": false,
   "sideBar": true,
   "skip_h1_title": true,
   "title_cell": "Table of Contents",
   "title_sidebar": "Contents",
   "toc_cell": false,
   "toc_position": {},
   "toc_section_display": true,
   "toc_window_display": false
  },
  "varInspector": {
   "cols": {
    "lenName": 16,
    "lenType": 16,
    "lenVar": 40
   },
   "kernels_config": {
    "python": {
     "delete_cmd_postfix": "",
     "delete_cmd_prefix": "del ",
     "library": "var_list.py",
     "varRefreshCmd": "print(var_dic_list())"
    },
    "r": {
     "delete_cmd_postfix": ") ",
     "delete_cmd_prefix": "rm(",
     "library": "var_list.r",
     "varRefreshCmd": "cat(var_dic_list()) "
    }
   },
   "types_to_exclude": [
    "module",
    "function",
    "builtin_function_or_method",
    "instance",
    "_Feature"
   ],
   "window_display": false
  }
 },
 "nbformat": 4,
 "nbformat_minor": 2
}
