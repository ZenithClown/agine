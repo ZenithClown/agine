{
 "cells": [
  {
   "cell_type": "code",
   "execution_count": 1,
   "metadata": {},
   "outputs": [
    {
     "name": "stdout",
     "output_type": "stream",
     "text": [
      "Setting up agine-Environment...\n",
      "\tDetected OS            : Windows-10\n",
      "\tscikit-learn Options   : True\n",
      "\tThreading Availibilty  : False\n",
      "\tTensorflow Availibilty : False\n"
     ]
    }
   ],
   "source": [
    "import agine\n",
    "import numpy as np"
   ]
  },
  {
   "cell_type": "markdown",
   "metadata": {},
   "source": [
    "Two Point in an n-dimensional space is represented as $P(p_1, p_2, ... p_n)$ and $Q(q_1, q_2, ... q_n)$ respectively. The distance b/w the two of them is given by the following:\n",
    "\n",
    "**Manhattan Distance**\n",
    "$$\n",
    "    d(P, Q) = d(Q, P) = \\sum_{i = 1}^{n}(|p_i - q_i|)\n",
    "$$\n",
    "\n",
    "**Euclidean Distance**\n",
    "$$\n",
    "    d(P, Q) = d(Q, P) = \\sqrt{\\sum_{i = 1}^{n}(p_i - q_i)^2}\n",
    "$$"
   ]
  },
  {
   "cell_type": "markdown",
   "metadata": {},
   "source": [
    "Another interesting formula for calculating the _Angular Distance_ between two points on the surface of a sphere is the **Haversine Distance**. However, unlike the previous formula, this is only applicable for geographical coordinates having $P(px_{lon}, py_{lat})$ and $Q(qx_{lon}, qy_{lat})$, where `lat = latitude` and `lon = longitude`. By simple graphical representation, `x-axis` can be stated as the longitude, and `y-axis` as the latitude, as represented [here, Orthographic to Equirectangular](https://observablehq.com/@d3/gallery). The haversine distance between two points is given by:\n",
    "\n",
    "$$\n",
    "    D(P, Q) = 2\\arcsin(\\sqrt{\n",
    "        \\sin^2(\\frac{qy_{lat} - py_{lat}}{2}) + \\cos(py_{lat})\\cos(qy_{lat})\\sin^2(\\frac{qx_{lon} - px_{lon}}{2})\n",
    "    }) \\space radians\n",
    "$$\n",
    "\n",
    "It is to note that, the distance is an approximate one, with an error of less than `1%`. The distance calculated, is in `radians`. Equivalent distance in meter is `D(P, Q) * R`, where `r = 6371000` which is the radius of the Earth."
   ]
  },
  {
   "cell_type": "code",
   "execution_count": 2,
   "metadata": {},
   "outputs": [],
   "source": [
    "P = np.random.randint(0, 10, size = 3)\n",
    "Q = np.random.randint(0, 10, size = 3)"
   ]
  },
  {
   "cell_type": "code",
   "execution_count": 3,
   "metadata": {},
   "outputs": [
    {
     "name": "stdout",
     "output_type": "stream",
     "text": [
      "Two Random Points are [9 2 3] and [3 1 8]\n"
     ]
    }
   ],
   "source": [
    "print(f'Two Random Points are {P} and {Q}')"
   ]
  },
  {
   "cell_type": "code",
   "execution_count": 4,
   "metadata": {},
   "outputs": [
    {
     "name": "stdout",
     "output_type": "stream",
     "text": [
      "Euclidean Distance = 7.874007874011811 units\n",
      "Manhattan Distance = 12 units\n"
     ]
    }
   ],
   "source": [
    "print(f'Euclidean Distance = {agine.EuclideanDistance(P, Q)} units')\n",
    "print(f'Manhattan Distance = {agine.ManhattanDistance(P, Q)} units')"
   ]
  },
  {
   "cell_type": "code",
   "execution_count": 5,
   "metadata": {},
   "outputs": [],
   "source": [
    "delhi  = [28.7041, 77.1025]\n",
    "mumbai = [19.0760, 72.8777]"
   ]
  },
  {
   "cell_type": "code",
   "execution_count": 6,
   "metadata": {},
   "outputs": [
    {
     "name": "stdout",
     "output_type": "stream",
     "text": [
      "Haversine Distance = 1153.2412912502034 km\n"
     ]
    }
   ],
   "source": [
    "print(f'Haversine Distance = {agine.HaversineDistance(delhi, mumbai)} km')"
   ]
  }
 ],
 "metadata": {
  "hide_input": false,
  "kernelspec": {
   "display_name": "Py-3.7.4 Test ENV",
   "language": "python",
   "name": "testenvironment"
  },
  "language_info": {
   "codemirror_mode": {
    "name": "ipython",
    "version": 3
   },
   "file_extension": ".py",
   "mimetype": "text/x-python",
   "name": "python",
   "nbconvert_exporter": "python",
   "pygments_lexer": "ipython3",
   "version": "3.7.4"
  },
  "latex_envs": {
   "LaTeX_envs_menu_present": true,
   "autoclose": true,
   "autocomplete": true,
   "bibliofile": "biblio.bib",
   "cite_by": "apalike",
   "current_citInitial": 1,
   "eqLabelWithNumbers": true,
   "eqNumInitial": 1,
   "hotkeys": {
    "equation": "Ctrl-E",
    "itemize": "Ctrl-I"
   },
   "labels_anchors": false,
   "latex_user_defs": false,
   "report_style_numbering": false,
   "user_envs_cfg": false
  },
  "toc": {
   "base_numbering": 1,
   "nav_menu": {},
   "number_sections": false,
   "sideBar": true,
   "skip_h1_title": true,
   "title_cell": "Table of Contents",
   "title_sidebar": "Contents",
   "toc_cell": false,
   "toc_position": {},
   "toc_section_display": true,
   "toc_window_display": false
  },
  "varInspector": {
   "cols": {
    "lenName": 16,
    "lenType": 16,
    "lenVar": 40
   },
   "kernels_config": {
    "python": {
     "delete_cmd_postfix": "",
     "delete_cmd_prefix": "del ",
     "library": "var_list.py",
     "varRefreshCmd": "print(var_dic_list())"
    },
    "r": {
     "delete_cmd_postfix": ") ",
     "delete_cmd_prefix": "rm(",
     "library": "var_list.r",
     "varRefreshCmd": "cat(var_dic_list()) "
    }
   },
   "types_to_exclude": [
    "module",
    "function",
    "builtin_function_or_method",
    "instance",
    "_Feature"
   ],
   "window_display": false
  }
 },
 "nbformat": 4,
 "nbformat_minor": 2
}
