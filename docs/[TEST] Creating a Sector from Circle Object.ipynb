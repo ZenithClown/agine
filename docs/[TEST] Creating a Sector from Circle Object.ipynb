{
 "cells": [
  {
   "cell_type": "code",
   "execution_count": 25,
   "metadata": {},
   "outputs": [],
   "source": [
    "import agine\n",
    "import numpy as np\n",
    "# import pandas as pd\n",
    "from shapely.geometry import Polygon"
   ]
  },
  {
   "cell_type": "code",
   "execution_count": 10,
   "metadata": {},
   "outputs": [
    {
     "data": {
      "text/plain": [
       "(array('d', [72.09639297983286, 72.09592676864162, 72.09454352220594, 72.0922567093458, 72.08908848897673, 72.08506949151577, 72.0802385193591, 72.07464216948743, 72.06833438197377, 72.06137591884406, 72.05383377837086, 72.04578055045924, 72.03729371930758, 72.02845491999116, 72.01934915602016, 72.0100639852646, 72.00068868191185, 71.99131338233086, 71.98202822285477, 71.972922477564, 71.96408370415135, 71.95559690588118, 71.94754371751647, 71.94000162287978, 71.93304321144024, 71.92673548097828, 71.92113919297609, 71.91630828691632, 71.9122893591482, 71.90912121140114, 71.90683447339646, 71.90545130333153, 71.90498516929247, 71.90544071389847, 71.90681370369694, 71.9090910640232, 71.91225099921624, 71.91626319725327, 71.92108911703656, 71.92668235574635, 71.93298909287137, 71.93994860675342, 71.94749385874194, 71.95555213935967, 71.96404577023657, 71.97289285498816, 71.98200807169923, 71.99130349923523, 72.00068946924486, 72.01007543544372, 72.01937085158465, 72.02848604942776, 72.03733310802296, 72.04582670571057, 72.05388494643016, 72.0614301522011, 72.06838961399667, 72.0746962936737, 72.08028947013293, 72.08511532346814, 72.08912745150451, 72.0922873138229, 72.09456459910596, 72.0959375124181, 72.09639297983286, 72.09639297983286]),\n",
       " array('d', [20.00015380581899, 19.99133916627917, 19.982609906306394, 19.974050072132783, 19.96574206524171, 19.957765850128574, 19.950198185979676, 19.943111889599468, 19.93657513660132, 19.93065080749736, 19.92539588488319, 19.92086090741753, 19.917089485750576, 19.914117884962288, 19.91197467743982, 19.91068046945625, 19.910247704017795, 19.910680541829066, 19.91197482149263, 19.91411809931596, 19.917089768352618, 19.920861255561434, 19.92539629523389, 19.930651276122706, 19.936575659009137, 19.943112460780068, 19.950198800453244, 19.957766501997163, 19.965742748245255, 19.97405077970874, 19.98261063165233, 19.991339902417838, 20.00015454566517, 20.008969678953193, 20.017700400906307, 20.026262609109644, 20.034573810847746, 20.042553918849663, 20.050126024328197, 20.057217139801622, 20.063758904461874, 20.069688245201583, 20.07494798683068, 20.079487405498032, 20.083262719880036, 20.086237515301228, 20.088383096605888, 20.08967876629727, 20.09011202519619, 20.089678693634504, 20.088382951984336, 20.086237300121876, 20.083262436227095, 20.07948705611841, 20.074947575106915, 20.069687775118602, 20.06375838056786, 20.05721656716339, 20.05012540848157, 20.042553265745354, 20.034573126793305, 20.026261900708, 20.017699674991622, 20.00896894252459, 20.000153805818993, 20.00015380581899]))"
      ]
     },
     "execution_count": 10,
     "metadata": {},
     "output_type": "execute_result"
    }
   ],
   "source": [
    "agine.create_circle_polygon(72, 20).exterior.coords.xy"
   ]
  },
  {
   "cell_type": "code",
   "execution_count": 6,
   "metadata": {},
   "outputs": [],
   "source": [
    "x, y = agine.create_circle_polygon(72, 20).exterior.coords.xy\n",
    "x, y = map(np.array, [x, y])"
   ]
  },
  {
   "cell_type": "markdown",
   "metadata": {},
   "source": [
    "Object, given an *Azimuthal Angle* and *arc-spac* develop the sector-object for Shapely.\n",
    "\n",
    "Let, Azimuthal Angle ($\\alpha$) = 90 deg, and arc-span ($a_s$) = 120 deg. Then,\n",
    "   * pos_point = $\\alpha - \\frac{a_s}{2}$ = 30\n",
    "   * neg_point = $\\alpha + \\frac{a_s}{2}$ = 150"
   ]
  },
  {
   "cell_type": "code",
   "execution_count": 11,
   "metadata": {},
   "outputs": [],
   "source": [
    "pos_point = agine.calculate_point_at_bearing(point = (72, 20), theta = 30, distance = 10, input_distance_unit = 'km')\n",
    "neg_point = agine.calculate_point_at_bearing(point = (72, 20), theta = 150, distance = 10, input_distance_unit = 'km')"
   ]
  },
  {
   "cell_type": "code",
   "execution_count": 12,
   "metadata": {},
   "outputs": [
    {
     "data": {
      "text/plain": [
       "((72.04785193914667, 20.077877102316066),\n",
       " (72.04785193914667, 19.92211005328135))"
      ]
     },
     "execution_count": 12,
     "metadata": {},
     "output_type": "execute_result"
    }
   ],
   "source": [
    "pos_point, neg_point"
   ]
  },
  {
   "cell_type": "code",
   "execution_count": 16,
   "metadata": {},
   "outputs": [],
   "source": [
    "lon_trim = [pos_point[0], neg_point[0]] # i.e. for filtering x-Values\n",
    "lat_trim = [pos_point[1], neg_point[1]] # i.e. for filtering y-Values"
   ]
  },
  {
   "cell_type": "code",
   "execution_count": 24,
   "metadata": {},
   "outputs": [],
   "source": [
    "x_trim = np.take(x, np.where(np.logical_and(x >= min(lon_trim), x >= max(lon_trim))))[0]\n",
    "y_trim = np.take(y, np.where(np.logical_and(y >= min(lat_trim), y >= max(lat_trim))))[0]"
   ]
  },
  {
   "cell_type": "code",
   "execution_count": 27,
   "metadata": {},
   "outputs": [],
   "source": [
    "p = Polygon(zip(x_trim, y_trim))"
   ]
  },
  {
   "cell_type": "code",
   "execution_count": 28,
   "metadata": {},
   "outputs": [
    {
     "data": {
      "image/svg+xml": [
       "<svg xmlns=\"http://www.w3.org/2000/svg\" xmlns:xlink=\"http://www.w3.org/1999/xlink\" width=\"100.0\" height=\"100.0\" viewBox=\"72.05213141031238 20.07778468805993 0.04596393757894646 0.014029705194744224\" preserveAspectRatio=\"xMinYMin meet\"><g transform=\"matrix(1,0,0,-1,0,40.1695990813146)\"><path fill-rule=\"evenodd\" fill=\"#66cc99\" stroke=\"#555555\" stroke-width=\"0.0009192787515789291\" opacity=\"0.6\" d=\"M 72.09639297983286,20.079487405498032 L 72.09592676864162,20.083262719880036 L 72.09454352220594,20.086237515301228 L 72.0922567093458,20.088383096605888 L 72.08908848897673,20.08967876629727 L 72.08506949151577,20.09011202519619 L 72.0802385193591,20.089678693634504 L 72.07464216948743,20.088382951984336 L 72.06833438197377,20.086237300121876 L 72.06137591884406,20.083262436227095 L 72.05383377837086,20.07948705611841 L 72.09639297983286,20.079487405498032 z\" /></g></svg>"
      ],
      "text/plain": [
       "<shapely.geometry.polygon.Polygon at 0x2db70cd73c8>"
      ]
     },
     "execution_count": 28,
     "metadata": {},
     "output_type": "execute_result"
    }
   ],
   "source": [
    "p"
   ]
  },
  {
   "cell_type": "code",
   "execution_count": 29,
   "metadata": {},
   "outputs": [
    {
     "data": {
      "text/plain": [
       "(array('d', [72.09639297983286, 72.09592676864162, 72.09454352220594, 72.0922567093458, 72.08908848897673, 72.08506949151577, 72.0802385193591, 72.07464216948743, 72.06833438197377, 72.06137591884406, 72.05383377837086, 72.09639297983286]),\n",
       " array('d', [20.079487405498032, 20.083262719880036, 20.086237515301228, 20.088383096605888, 20.08967876629727, 20.09011202519619, 20.089678693634504, 20.088382951984336, 20.086237300121876, 20.083262436227095, 20.07948705611841, 20.079487405498032]))"
      ]
     },
     "execution_count": 29,
     "metadata": {},
     "output_type": "execute_result"
    }
   ],
   "source": [
    "p.exterior.coords.xy"
   ]
  }
 ],
 "metadata": {
  "hide_input": false,
  "kernelspec": {
   "display_name": "Py-3.7.4 Test ENV",
   "language": "python",
   "name": "testenvironment"
  },
  "language_info": {
   "codemirror_mode": {
    "name": "ipython",
    "version": 3
   },
   "file_extension": ".py",
   "mimetype": "text/x-python",
   "name": "python",
   "nbconvert_exporter": "python",
   "pygments_lexer": "ipython3",
   "version": "3.7.4"
  },
  "latex_envs": {
   "LaTeX_envs_menu_present": true,
   "autoclose": true,
   "autocomplete": true,
   "bibliofile": "biblio.bib",
   "cite_by": "apalike",
   "current_citInitial": 1,
   "eqLabelWithNumbers": true,
   "eqNumInitial": 1,
   "hotkeys": {
    "equation": "Ctrl-E",
    "itemize": "Ctrl-I"
   },
   "labels_anchors": false,
   "latex_user_defs": false,
   "report_style_numbering": false,
   "user_envs_cfg": false
  },
  "toc": {
   "base_numbering": 1,
   "nav_menu": {},
   "number_sections": false,
   "sideBar": true,
   "skip_h1_title": true,
   "title_cell": "Table of Contents",
   "title_sidebar": "Contents",
   "toc_cell": false,
   "toc_position": {},
   "toc_section_display": true,
   "toc_window_display": false
  },
  "varInspector": {
   "cols": {
    "lenName": 16,
    "lenType": 16,
    "lenVar": 40
   },
   "kernels_config": {
    "python": {
     "delete_cmd_postfix": "",
     "delete_cmd_prefix": "del ",
     "library": "var_list.py",
     "varRefreshCmd": "print(var_dic_list())"
    },
    "r": {
     "delete_cmd_postfix": ") ",
     "delete_cmd_prefix": "rm(",
     "library": "var_list.r",
     "varRefreshCmd": "cat(var_dic_list()) "
    }
   },
   "types_to_exclude": [
    "module",
    "function",
    "builtin_function_or_method",
    "instance",
    "_Feature"
   ],
   "window_display": false
  }
 },
 "nbformat": 4,
 "nbformat_minor": 2
}
